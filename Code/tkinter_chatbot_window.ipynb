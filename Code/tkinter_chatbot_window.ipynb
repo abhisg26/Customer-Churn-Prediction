{
 "cells": [
  {
   "cell_type": "code",
   "execution_count": 2,
   "id": "caad41e0",
   "metadata": {},
   "outputs": [],
   "source": [
    "from tkinter import *\n",
    "from PIL import ImageTk,Image\n",
    "import tkinter as tk\n",
    "from tkinter import ttk\n",
    "\n",
    "# Top level window\n",
    "win = tk.Tk()\n",
    "win.title('Industrial Safety')\n",
    "win.geometry(\"400x400\")\n",
    "\n",
    "# Description = ttk.Label(win,width=20,text=\"Description\")\n",
    "# Description.grid(row=0,column=0,sticky=tk.W)\n",
    "\n",
    "# Description_sel = tk.StringVar()\n",
    "# Description_EntryBox = ttk.Entry(win,width=16,textvariable=Description_sel)\n",
    "# Description_EntryBox.grid(row=0,column=1)\n",
    "#Create chat window\n",
    "chatWindow = Text(win,bd=1,bg='black',width=50,height=8)\n",
    "chatWindow.place(x=6,y=6,height=385,width=370)\n",
    "# def submit_button():\n",
    "#     global df_new\n",
    "#     df_new = pd.DataFrame.from_dict({'Description':[Description_sel.get()]})\n",
    "#     confirm =\"Done\"\n",
    "#     Confirm_Entrybox = ttk.Entry(win,width=16)\n",
    "#     Confirm_Entrybox.grid(row=19,column=2)\n",
    "#     Confirm_Entrybox.insert(1,str(confirm))\n",
    "    \n",
    "# submit_button = ttk.Button(win,text=\"Submit\",command=submit_button)\n",
    "# submit_button.grid(row=19,column=0)\n",
    "# Create message window\n",
    "messageWindow = Text(win,bg='white',width=30,height=4)\n",
    "messageWindow.place(x=128,y=400,height=88,width=260)\n",
    "Description_sel = tk.StringVar()\n",
    "desc_entry = Entry(messageWindow,bd=5,textvariable=Description_sel)\n",
    "\n",
    "# Description_EntryBox = ttk.Entry(messageWindow,width=16,textvariable=Description_sel)\n",
    "\n",
    "#Create a Send Message Button to send message to message window\n",
    "Send_Button = Button(win,text='Send',bg='blue',activebackground='light blue', width=12,height=5)\n",
    "Send_Button.place(x=6,y=400,height=88,width=120)\n",
    "win.mainloop()"
   ]
  },
  {
   "cell_type": "code",
   "execution_count": null,
   "id": "ec852690",
   "metadata": {},
   "outputs": [],
   "source": []
  }
 ],
 "metadata": {
  "kernelspec": {
   "display_name": "Python 3",
   "language": "python",
   "name": "python3"
  },
  "language_info": {
   "codemirror_mode": {
    "name": "ipython",
    "version": 3
   },
   "file_extension": ".py",
   "mimetype": "text/x-python",
   "name": "python",
   "nbconvert_exporter": "python",
   "pygments_lexer": "ipython3",
   "version": "3.8.5"
  }
 },
 "nbformat": 4,
 "nbformat_minor": 5
}
